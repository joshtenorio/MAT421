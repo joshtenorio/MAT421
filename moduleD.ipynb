{
  "nbformat": 4,
  "nbformat_minor": 0,
  "metadata": {
    "colab": {
      "provenance": [],
      "authorship_tag": "ABX9TyMCaLr2Z4uDSio4pZGTZEex",
      "include_colab_link": true
    },
    "kernelspec": {
      "name": "python3",
      "display_name": "Python 3"
    },
    "language_info": {
      "name": "python"
    }
  },
  "cells": [
    {
      "cell_type": "markdown",
      "metadata": {
        "id": "view-in-github",
        "colab_type": "text"
      },
      "source": [
        "<a href=\"https://colab.research.google.com/github/joshtenorio/MAT421/blob/main/moduleD.ipynb\" target=\"_parent\"><img src=\"https://colab.research.google.com/assets/colab-badge.svg\" alt=\"Open In Colab\"/></a>"
      ]
    },
    {
      "cell_type": "markdown",
      "source": [
        "# 1.1 Introduction\n",
        "Linear Algebra is important in many fields.\n",
        "For instance, it is very important for understanding data science and machine learning algorithms, as well as image processing tasks.\n",
        "\n",
        "# 1.2 Elements of Linear Algebra\n",
        "## Orthogonality\n",
        "A list of vectors {v1, ... vm} is orthonormal if the vectors are pairwise orthogonal (<vi, vj> = 0 when i != j) and each has norm 1 (<vi, vi> = 1 for all i).\n",
        "\n",
        "Orthonormal bases can greatly simplify mathematical representations and reveal more insights of the underlying problems.\n",
        "\n",
        "## Eigenvalues and Eigenvectors\n",
        "Eigenvalues, usually represented by $\\lambda$, is a real number such that $Ax=\\lambda x$, for a dxd matrix $A$ and nonzero vector $x$.\n",
        "The vector $x$ is then called an eigenvector.\n",
        "\n",
        "Usually, A will have at most d distinct eigenvalues, where d is the number of rows or columns in A.\n",
        "\n",
        "## NumPy\n",
        "The NumPy library includes functionality that makes it easier to conduct scientific computing in Python.\n",
        "For instance, it includes many useful functions and classes relating to linear algebra and matrices."
      ],
      "metadata": {
        "id": "ZGoZVt-G6Kmt"
      }
    },
    {
      "cell_type": "code",
      "execution_count": 2,
      "metadata": {
        "id": "jOyFwy1B6JEo"
      },
      "outputs": [],
      "source": [
        "import numpy as np"
      ]
    },
    {
      "cell_type": "markdown",
      "source": [
        "# 1.3 Linear Regression\n",
        "Linear Regression is popular because of its simplicity.\n",
        "It can be used for models that depend linearly on their parameters, and are usually easy to fit.\n",
        "\n",
        "In general, the most common approach to solving linear regression problems involves finding coefficients that minimize the sum of squared errors.\n",
        "It can also be transformed into a least squares problem.\n",
        "\n",
        "## Least Squares Problem\n",
        "Suppose we have a model Ax=b, and we want to use Ax to approximate b, with A being a nxn matrix and x,b vectors.\n",
        "\n",
        "QR Decomposition can be used to solve it by  hand, but `numpy` includes a function to return a least-squares solution."
      ],
      "metadata": {
        "id": "VEhbTbSc6M_U"
      }
    },
    {
      "cell_type": "code",
      "source": [
        "# data points we want to fit a line y=mx+b through\n",
        "# we should expect to see m =~ 2 and b =~ -4\n",
        "x = np.array([0, 1, 2, 3])\n",
        "y = np.array([-4, -2.2, 0.1, 2.1])\n",
        "\n",
        "# rewrite line equation as y=Ap, where A = [ [x 1] ] and p = [ [m], [b] ]\n",
        "A = np.vstack([x, np.ones(len(x))]).T\n",
        "print(A)\n",
        "m, b = np.linalg.lstsq(A, y, rcond=None)[0] # np.lingalg.lstsq\n",
        "m, b"
      ],
      "metadata": {
        "colab": {
          "base_uri": "https://localhost:8080/"
        },
        "id": "AGH9W1Z26NE8",
        "outputId": "ac4deb68-e7a5-4f1d-f529-4c702565e055"
      },
      "execution_count": 3,
      "outputs": [
        {
          "output_type": "stream",
          "name": "stdout",
          "text": [
            "[[0. 1.]\n",
            " [1. 1.]\n",
            " [2. 1.]\n",
            " [3. 1.]]\n"
          ]
        },
        {
          "output_type": "execute_result",
          "data": {
            "text/plain": [
              "(2.06, -4.09)"
            ]
          },
          "metadata": {},
          "execution_count": 3
        }
      ]
    }
  ]
}