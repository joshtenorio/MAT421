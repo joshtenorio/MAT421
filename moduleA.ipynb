{
  "nbformat": 4,
  "nbformat_minor": 0,
  "metadata": {
    "colab": {
      "provenance": [],
      "authorship_tag": "ABX9TyM5MHoIWLfjHwZD19Mfit9p",
      "include_colab_link": true
    },
    "kernelspec": {
      "name": "python3",
      "display_name": "Python 3"
    },
    "language_info": {
      "name": "python"
    }
  },
  "cells": [
    {
      "cell_type": "markdown",
      "metadata": {
        "id": "view-in-github",
        "colab_type": "text"
      },
      "source": [
        "<a href=\"https://colab.research.google.com/github/joshtenorio/MAT421/blob/main/moduleA.ipynb\" target=\"_parent\"><img src=\"https://colab.research.google.com/assets/colab-badge.svg\" alt=\"Open In Colab\"/></a>"
      ]
    },
    {
      "cell_type": "markdown",
      "source": [
        "# Base-N and Binary\n",
        "\n",
        "The decimal system is a common method of representing numbers.\n",
        "It is base 10, which means that each digit (from 0 to 9) represents the coefficient for a power of 10. The least significant digit is the coefficient for $10^0$, the second least significant digit is the coefficient for $10^1$ and so on.\n",
        "For instance, 132 in decimal can be expanded to $1*10^2+3*10^1+2*10^0$.\n",
        "\n",
        "This pattern can be generalized for any base system.\n",
        "For example, the least significant digit in base 3 is the coefficient for $3^0$.\n",
        "\n",
        "## Binary\n",
        "Another important representation is binary, which is base 2.\n",
        "Numbers in binary are represented as a sequence of 0's and 1's, which represents coefficients for a power of 2.\n",
        "\n",
        "Binary numbers are especially important for ocmputers since arithmetic operations on binary digits can be used with AND, OR, and NOT instructions which computers can do quickly."
      ],
      "metadata": {
        "id": "eDvFqgPZo0A-"
      }
    },
    {
      "cell_type": "code",
      "execution_count": 2,
      "metadata": {
        "colab": {
          "base_uri": "https://localhost:8080/"
        },
        "id": "VFk0_tBYoxdM",
        "outputId": "eed5c2e5-4c97-4663-c729-0516dd53bba3"
      },
      "outputs": [
        {
          "output_type": "stream",
          "name": "stdout",
          "text": [
            "True\n",
            "0b1011 is 11 in binary\n"
          ]
        }
      ],
      "source": [
        "# Converting 11 in base 10 into binary\n",
        "num = 11\n",
        "expansion = 1*2**3 + 0*2**2 + 1*2**1 + 1*2**0\n",
        "print(num == expansion)\n",
        "# so 11_10 = 1011_2\n",
        "\n",
        "# in python we can prefix numbers with 0b to denote it is a binary number\n",
        "# for hex, we can use the prefix 0x\n",
        "if 11 == 0b1011:\n",
        "  print(\"0b1011 is 11 in binary\")\n"
      ]
    },
    {
      "cell_type": "markdown",
      "source": [
        "# Floating Point Numbers\n",
        "Floats allocate bits to 3 different parts of a floating point number:\n",
        "- sign indicator\n",
        "- exponent (the power of 2)\n",
        "- fraction (coefficient of the fraction)\n",
        "\n",
        "Almost all platforms map Python floats to the IEEE754 double precision, which uses 64 bits:\n",
        "- 1 bit for the sign\n",
        "- 11 for the exponent\n",
        "- 52 for the fraction\n",
        "\n",
        "Although the exponent can hold 2048 values with 11 bits, we subtract 1023 (i.e., the bias) to normalize it so that we can represent negative exponents.\n",
        "\n",
        "Thus, we have $n=(-1)^s2^{e-1023}(1+f)$.\n",
        "\n",
        "The distance from one floating point number to the next is the gap.\n",
        "Since the fraction is multiplied by a power of 2, the grap grows as the number represented grows.\n",
        "As such, IEEE754 uses very high precisions for small numbers and very low precision for larger numbers."
      ],
      "metadata": {
        "id": "1uLQNc88o51d"
      }
    },
    {
      "cell_type": "code",
      "source": [
        "import numpy as np\n",
        "\n",
        "print(np.spacing(1e9))\n",
        "\n",
        "if 1e9 == (1e9 + np.spacing(1e9)/3)\n",
        "  print(\"adding a number less than half of the gap results in the same number!\")\n"
      ],
      "metadata": {
        "id": "KDAYbX13o6FI"
      },
      "execution_count": null,
      "outputs": []
    },
    {
      "cell_type": "markdown",
      "source": [
        "# Round-off Errors\n",
        "Since floating point numbers can't be stored with perfect precision, we get round-off error, which is the difference between an approximation of a number and its true value.\n",
        "A simple example is pi, which is an infinite number, but we typically use a finite representation or approximation whenever we use it.\n",
        "Another example is the number $1/3$, which the true value in decimal form is also infinite, but realistically we use a finite precision.\n",
        "\n",
        "When a number is rounded multiple times, the error also accumulates.\n",
        "When doing a sequence of calculations on some initial input with round-off error, the error can also be accumulated as seen below."
      ],
      "metadata": {
        "id": "ho81bo57o6Ps"
      }
    },
    {
      "cell_type": "code",
      "source": [
        "def add_and_subtract(iterations):\n",
        "  result = 1\n",
        "  for i in range(iterations):\n",
        "    result += 1/3\n",
        "  for i in range(iterations):\n",
        "    result -= 1/3\n",
        "  return result\n",
        "\n",
        "print(add_and_subtract(1))\n",
        "print(add_and_subtract(100)) # error accumulates in this instance\n",
        "print(add_and_subtract(10000)) # even more error here\n"
      ],
      "metadata": {
        "colab": {
          "base_uri": "https://localhost:8080/"
        },
        "id": "nssetvQuo6WV",
        "outputId": "461fdb07-6a16-4be5-c8c5-ce70acd743f8"
      },
      "execution_count": 5,
      "outputs": [
        {
          "output_type": "stream",
          "name": "stdout",
          "text": [
            "1.0\n",
            "1.0000000000000002\n",
            "1.0000000000001166\n"
          ]
        }
      ]
    }
  ]
}