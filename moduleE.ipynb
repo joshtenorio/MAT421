{
  "nbformat": 4,
  "nbformat_minor": 0,
  "metadata": {
    "colab": {
      "provenance": [],
      "authorship_tag": "ABX9TyPI0mbcUVQ90jt6WS7jELLh",
      "include_colab_link": true
    },
    "kernelspec": {
      "name": "python3",
      "display_name": "Python 3"
    },
    "language_info": {
      "name": "python"
    }
  },
  "cells": [
    {
      "cell_type": "markdown",
      "metadata": {
        "id": "view-in-github",
        "colab_type": "text"
      },
      "source": [
        "<a href=\"https://colab.research.google.com/github/joshtenorio/MAT421/blob/main/moduleE.ipynb\" target=\"_parent\"><img src=\"https://colab.research.google.com/assets/colab-badge.svg\" alt=\"Open In Colab\"/></a>"
      ]
    },
    {
      "cell_type": "markdown",
      "source": [
        "## Module 3.2\n",
        "### Limits\n",
        "Limits are useful for knowing what a function $f(x)$ converges to as $x$ reaches some value (e.g. $x\\to a$).\n",
        "They are also used in the definition of a continuous function; specifically that a function $f$ is continuous at $d$ if $\\lim_{x\\to d} f(x)=f(d)$.\n",
        "\n",
        "### Derivatives\n",
        "The easiest way to think about a derivative is basically a slope but with a really small $\\Delta$.\n",
        "Using limits, we can define a derivative of $f$ at $x_0$ as $f'(x_0)=\\frac{df(x_0)}{dx}=lim_{h\\to 0}\\frac{f(x_0+h)-f(x_0)}{h}$.\n",
        "Thus, derivatives tell us the rate of change at a specific point, rather than over a range as a typical slope equation would do.\n",
        "\n",
        "### Partial Derivatives\n",
        "In applications such as multivariable calculus or data science, we may have functions or relationships with multiple variables. Taking the partial derivative allows us to take the derivative with respect to a particular variable.\n",
        "They are defined as $\\frac{\\delta f(x_0)}{\\delta x_i} = \\lim_{h\\to0}\\frac{f(x_0+he_i)-f(x_0)}{h}$.\n",
        "\n",
        "### Directional Derivatives\n",
        "Directional derivatives are derivatives for a function $f:D\\to\\mathbb{R}$ where $D\\subseteq \\mathbb{R}^d$.\n",
        "Specifically, they are the derivative of $f$ at some point $x_0$ in the direction $v\\in\\mathbb{R}^d$, a unit vector."
      ],
      "metadata": {
        "id": "0qDlwAUqEpnH"
      }
    },
    {
      "cell_type": "markdown",
      "source": [
        "## Module 3.3\n",
        "Module 3.3 is about optimatlity conditions for unconstrained continuous optimization problems.\n",
        "\n",
        "### Local minimizers\n",
        "Global minimizers are generally difficult to find.\n",
        "On the other hand local minimizers are much easier.\n",
        "Local minimizers are defined as a point $x^*\\in\\mathbb{R}^d$ if there is $\\delta>0$ such that\n",
        "\\begin{equation*}\n",
        "f(x) \\geq f(x^*), \\forall x\\in B_\\delta(x^*)\\setminus \\{x^*\\}\n",
        "\\end{equation*}\n",
        "In other words, $x^*$ is a local minimizer if there is an open ball around it where it is the minimum value.\n",
        "\n",
        "$v$ is a descent direction if the directional derivative of $f$ at $x_0$ in the direction $v$ is negative.\n",
        "\n",
        "### Gradient Descent\n",
        "Gradient descent is an iterative optimization algorithm for finding a local minimum of a differentiable function.\n",
        "We can use gradient descent method algorithms for solving optimization problems numerically.\n",
        "For now, we only look at unconstrained minimization problems of the form\n",
        "\\begin{equation*}\n",
        "\\min_{x\\in\\mathbb{R}^d} f(\\boldsymbol{x})\n",
        "\\end{equation*}\n",
        "A good way to approach this problem is to find all stationary points of $f$, i.e., points where $\\nabla f(x)=0$, then choose $x$ that has the smallest value of $f(x)$.\n",
        "\n",
        "### Steepest Descent\n",
        "Another approach is to find smaller values of $f$ by continuously following directions in which $f$ decreases."
      ],
      "metadata": {
        "id": "1LmKf-zkEp1K"
      }
    }
  ]
}