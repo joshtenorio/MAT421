{
  "nbformat": 4,
  "nbformat_minor": 0,
  "metadata": {
    "colab": {
      "provenance": [],
      "authorship_tag": "ABX9TyOhgLVgYUs8kxKJFawy6Mmp",
      "include_colab_link": true
    },
    "kernelspec": {
      "name": "python3",
      "display_name": "Python 3"
    },
    "language_info": {
      "name": "python"
    }
  },
  "cells": [
    {
      "cell_type": "markdown",
      "metadata": {
        "id": "view-in-github",
        "colab_type": "text"
      },
      "source": [
        "<a href=\"https://colab.research.google.com/github/joshtenorio/MAT421/blob/main/moduleG_1.ipynb\" target=\"_parent\"><img src=\"https://colab.research.google.com/assets/colab-badge.svg\" alt=\"Open In Colab\"/></a>"
      ]
    },
    {
      "cell_type": "markdown",
      "source": [
        "# 21.1 Numerical Integration Problem Statement\n",
        "Integration has many applications for modeling, predicting, and understanding physical systems.\n",
        "Similarly to derivatives we can solve them analytically, however this chapter will go over numerical methods for integration."
      ],
      "metadata": {
        "id": "74dbhdr410BU"
      }
    },
    {
      "cell_type": "markdown",
      "source": [
        "# 21.2 Riemann's Integral\n",
        "The simplest way to represent an integral is by calculating the area of a rectangle for each subinterval and summing each one up within the desired interval.\n",
        "This approximation yields\n",
        "\\begin{equation}\n",
        "\\sum^{n-1}_{i=0}hf(x_i)\\end{equation}\n",
        "where $h=x_{i+1}-x_i$.\n",
        "\n",
        "Taylor series can be used to analyze the Riemann's Integral's accuracy, which will yield an overall accuracy of $O(h)$ (though for a single interval, the accuracy is $O(h^2)$).\n",
        "\n",
        "## Midpoint Rule\n",
        "An alternate way to get the height is by taking the funciton value at the midpoint between $x_i$ and $x{i+1}$."
      ],
      "metadata": {
        "id": "xfIwHJzm10HE"
      }
    },
    {
      "cell_type": "code",
      "source": [
        "import numpy as np\n",
        "\n",
        "a = 0\n",
        "b = np.pi\n",
        "n = 11\n",
        "h = (b - a) / (n - 1)\n",
        "x = np.linspace(a, b, n)\n",
        "f = np.sin(x)\n",
        "\n",
        "# left function value\n",
        "I_riemannL = h * sum(f[:n-1])\n",
        "err_riemannL = 2 - I_riemannL\n",
        "\n",
        "# right function value\n",
        "I_riemannR = h * sum(f[1::])\n",
        "err_riemannR = 2 - I_riemannR\n",
        "\n",
        "# midpoint function value\n",
        "I_mid = h * sum(np.sin((x[:n-1] \\\n",
        "        + x[1:])/2))\n",
        "err_mid = 2 - I_mid\n",
        "\n",
        "print(I_riemannL)\n",
        "print(err_riemannL)\n",
        "\n",
        "print(I_riemannR)\n",
        "print(err_riemannR)\n",
        "\n",
        "print(I_mid)\n",
        "print(err_mid)"
      ],
      "metadata": {
        "colab": {
          "base_uri": "https://localhost:8080/"
        },
        "id": "-Aydrare4Cj9",
        "outputId": "5074dbb1-1fcb-4cce-ccaa-53e7f29922a0"
      },
      "execution_count": 1,
      "outputs": [
        {
          "output_type": "stream",
          "name": "stdout",
          "text": [
            "1.9835235375094546\n",
            "0.01647646249054535\n",
            "1.9835235375094546\n",
            "0.01647646249054535\n",
            "2.0082484079079745\n",
            "-0.008248407907974542\n"
          ]
        }
      ]
    },
    {
      "cell_type": "markdown",
      "source": [
        "# 21.3 Trapezoid Rule\n",
        "Instead of summing multiple rectangles, the Trapezoid Rule sums multiple trapezoids over the interval in order to approximate the total integral.\n",
        "\\begin{equation}\n",
        "\\sum^{n-1}_{i=0}h\\frac{f(x_i)+f(x_{i+1})}{2}\n",
        "\\end{equation}\n"
      ],
      "metadata": {
        "id": "tdaQ60U_10Ka"
      }
    },
    {
      "cell_type": "code",
      "source": [
        "import numpy as np\n",
        "\n",
        "a = 0\n",
        "b = np.pi\n",
        "n = 11\n",
        "h = (b - a) / (n - 1)\n",
        "x = np.linspace(a, b, n)\n",
        "f = np.sin(x)\n",
        "\n",
        "I_trap = (h/2)*(f[0] + \\\n",
        "          2 * sum(f[1:n-1]) + f[n-1])\n",
        "err_trap = 2 - I_trap\n",
        "\n",
        "print(I_trap)\n",
        "print(err_trap)"
      ],
      "metadata": {
        "colab": {
          "base_uri": "https://localhost:8080/"
        },
        "id": "Y7MJK3Fc5JNB",
        "outputId": "de61909c-d5f6-4b19-85c4-6edc3ed51fe8"
      },
      "execution_count": 2,
      "outputs": [
        {
          "output_type": "stream",
          "name": "stdout",
          "text": [
            "1.9835235375094546\n",
            "0.01647646249054535\n"
          ]
        }
      ]
    }
  ]
}