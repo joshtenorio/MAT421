{
  "nbformat": 4,
  "nbformat_minor": 0,
  "metadata": {
    "colab": {
      "provenance": [],
      "authorship_tag": "ABX9TyOkn7j7UwWZtqV5oWyC+xfP",
      "include_colab_link": true
    },
    "kernelspec": {
      "name": "python3",
      "display_name": "Python 3"
    },
    "language_info": {
      "name": "python"
    }
  },
  "cells": [
    {
      "cell_type": "markdown",
      "metadata": {
        "id": "view-in-github",
        "colab_type": "text"
      },
      "source": [
        "<a href=\"https://colab.research.google.com/github/joshtenorio/MAT421/blob/main/moduleC.ipynb\" target=\"_parent\"><img src=\"https://colab.research.google.com/assets/colab-badge.svg\" alt=\"Open In Colab\"/></a>"
      ]
    },
    {
      "cell_type": "markdown",
      "source": [
        "# Root Finding Problem\n",
        "The roots of functions are one of its most important properties.\n",
        "These are applicable in applications such as signal processing and optimization.\n",
        "\n",
        "The quadratic formula (seen below) can be used to find two roots of a function exactly; however it fails to do so for more complicated functions.\n",
        "\n",
        "$x_r=\\frac{-b\\pm\\sqrt{b^2-4ac}}{2a}$ for $f(x)=ax^2+bx+c$"
      ],
      "metadata": {
        "id": "aRJEVqkc1Cxr"
      }
    },
    {
      "cell_type": "markdown",
      "source": [
        "# Tolerance\n",
        "Error is defined as a deviation from an expected or computed value, while tolerance is the level of error that is acceptable for a given application.\n",
        "\n",
        "A computer program has converged to a solution when it has found a solution with an error smaller than the tolerance.\n",
        "\n",
        "For computing roots, we ideally want a solution that is very close to 0.\n",
        "Since $x_r$ is a root if $f(x_r)=0$, we can use $|f(x)|$ as a measure of error since the smaller it is the likelier we are to a root.\n",
        "Another possible choice of root is the rate of change of the solution, since we expect subsequent iterations to have diminishing improvements as it approaches a solution."
      ],
      "metadata": {
        "id": "TMlGG_Dt1EMd"
      }
    },
    {
      "cell_type": "markdown",
      "source": [
        "# Bisection Method\n",
        "From calculus, the Intermediate Value Theorem tells us that if $f$ is continuous between $a$ and $b$ (with $a < b$) and $f(a)f(b)< 0 $ then there must be some a $c$ such that $a< c< b$ and $f(c)=0$.\n",
        "\n",
        "The bisection method is like a binary search for roots.\n",
        "Given an interval $(a,b)$ we let $m=(a+b)/2$. If $f(m)=0$ or close enough, we call $m$ a root. Otherwise if $f(m)> 0$, then $m$ is an improvement on the lower bound and we can narrow our search to $(m,b)$.\n",
        "If $f(m) < 0$, then we narrow the search to $(a,m)$.\n",
        "This process is repeated until the error is low enough."
      ],
      "metadata": {
        "id": "nwWI6KDS1El1"
      }
    },
    {
      "cell_type": "code",
      "source": [
        "import numpy as np\n",
        "\n",
        "def bisection(f, a, b, tol):\n",
        "    # approximates a root, R, of f bounded\n",
        "    # by a and b to within tolerance\n",
        "    # | f(m) | < tol with m the midpoint\n",
        "    # between a and b Recursive implementation\n",
        "\n",
        "    # check if a and b bound a root\n",
        "    if np.sign(f(a)) == np.sign(f(b)):\n",
        "        raise Exception(\n",
        "         \"The scalars a and b do not bound a root\")\n",
        "\n",
        "    # get midpoint\n",
        "    m = (a + b)/2\n",
        "\n",
        "    if np.abs(f(m)) < tol:\n",
        "        # stopping condition, report m as root\n",
        "        return m\n",
        "    elif np.sign(f(a)) == np.sign(f(m)):\n",
        "        # case where m is an improvement on a.\n",
        "        # Make recursive call with a = m\n",
        "        return bisection(f, m, b, tol)\n",
        "    elif np.sign(f(b)) == np.sign(f(m)):\n",
        "        # case where m is an improvement on b.\n",
        "        # Make recursive call with b = m\n",
        "        return bisection(f, a, m, tol)\n",
        "\n",
        "f = lambda x: x**2 - 5\n",
        "\n",
        "# look for a root between 1 and 6 with a tolerance of 0.01\n",
        "root = bisection(f, 1, 6, 0.01)\n",
        "print(root)"
      ],
      "metadata": {
        "colab": {
          "base_uri": "https://localhost:8080/"
        },
        "id": "n5TpAgC_1Eu1",
        "outputId": "0eca889f-4d8a-4ddd-f350-32a4191ec2b9"
      },
      "execution_count": 1,
      "outputs": [
        {
          "output_type": "stream",
          "name": "stdout",
          "text": [
            "2.2353515625\n"
          ]
        }
      ]
    },
    {
      "cell_type": "markdown",
      "source": [
        "# Newton-Raphson Method\n",
        "The Bisection Method is guaranteed to find a root if the conditions for IVT is met, but it can be very slow.\n",
        "\n",
        "Suppose we have a guess for $x_r$; we'll call it $x_0$.\n",
        "If we assume $x_0$ is close enough to $x_r$, we can take the linear approximation of $f$ around $x_0$, then find the intersection of this line with the x-axis, producing a zero.\n",
        "This linear approximation of $f$ around $x_0$ is $f(x_0)+ f'(x_0)(x-x_0)$.\n",
        "Our goal is to find some $x_1$ where $f(x_1)=0$, which plugging into the approximation gets us $x_1=x_0-\\frac{f(x_0)}{f'(x_0)}$.\n",
        "\n",
        "A Newton step computes an improved guess $x_i$ using a previous guess $x_{i-1}$ and is given by $x_i=x_{i-1}-\\frac{g(x_{i-1})}{g'(x_{i-1})}$.\n",
        "\n",
        "## Comparison with the Bisection Method\n",
        "If $x_0$ is close to $x_r$, it can be proven that generally the Newton-Raphson method converges to $x_r$ much faster than the bisection method.\n",
        "However, since $x_r$ is usually initially unknown, there is now way to know if the guess is close enough to the root unless we have information about the function beforehand.\n",
        "Another limitation of the Newton-Raphson method is that if we are close to a local min/max (not near a zero), then the derivative will be close to zero, resulting in the Newton step being very large and possibly away from the root.\n",
        "It may also converge to a different root than $x_r$, that might not be as useful for an application."
      ],
      "metadata": {
        "id": "F9500Jbj1FAU"
      }
    },
    {
      "cell_type": "code",
      "source": [
        "import numpy as np\n",
        "\n",
        "f = lambda x: x**2 - 5\n",
        "f_prime = lambda x: 2*x\n",
        "newton_raphson = 1.4 - (f(1.4))/(f_prime(1.4))\n",
        "\n",
        "print(\"newton_raphson =\", newton_raphson)\n",
        "print(\"sqrt(5) =\", np.sqrt(5))\n",
        "\n",
        "def my_newton(f, df, x0, tol):\n",
        "    if abs(f(x0)) < tol:\n",
        "        return x0\n",
        "    else:\n",
        "        return my_newton(f, df, x0 - f(x0)/df(x0), tol)\n",
        "\n",
        "estimate = my_newton(f, f_prime, 1.5, 1e-6)\n",
        "print(\"estimate =\", estimate)\n",
        "print(\"sqrt(5) =\", np.sqrt(5))\n",
        "print(\"error =\", estimate - np.sqrt(5))"
      ],
      "metadata": {
        "colab": {
          "base_uri": "https://localhost:8080/"
        },
        "id": "rZNS9eKC1FEk",
        "outputId": "a2cb047f-c7ea-4b74-da65-e774ccc6de49"
      },
      "execution_count": 3,
      "outputs": [
        {
          "output_type": "stream",
          "name": "stdout",
          "text": [
            "newton_raphson = 2.4857142857142858\n",
            "sqrt(5) = 2.23606797749979\n",
            "estimate = 2.236067977522834\n",
            "sqrt(5) = 2.23606797749979\n",
            "error = 2.30442331883296e-11\n"
          ]
        }
      ]
    },
    {
      "cell_type": "markdown",
      "source": [
        "# Root Finding in Python\n",
        "In `scipy` we can use `fsolve` to find a root."
      ],
      "metadata": {
        "id": "95wtwSF51FKG"
      }
    },
    {
      "cell_type": "code",
      "source": [
        "from scipy.optimize import fsolve\n",
        "\n",
        "f = lambda x: x**2-5\n",
        "\n",
        "fsolve(f, [2, 7])\n"
      ],
      "metadata": {
        "colab": {
          "base_uri": "https://localhost:8080/"
        },
        "id": "tvVgNxEU1FO9",
        "outputId": "5112e81c-8d45-4943-9d02-2b5f353f1601"
      },
      "execution_count": 4,
      "outputs": [
        {
          "output_type": "execute_result",
          "data": {
            "text/plain": [
              "array([2.23606798, 2.23606798])"
            ]
          },
          "metadata": {},
          "execution_count": 4
        }
      ]
    }
  ]
}